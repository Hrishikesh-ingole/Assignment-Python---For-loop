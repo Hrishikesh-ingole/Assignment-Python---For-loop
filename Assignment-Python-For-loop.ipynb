{
 "cells": [
  {
   "cell_type": "raw",
   "id": "3e2e7260-9e0a-46af-b4c3-b37d50e63550",
   "metadata": {},
   "source": [
    "For Loop Assignment Questions"
   ]
  },
  {
   "cell_type": "code",
   "execution_count": null,
   "id": "b97174e2-e2ba-4376-b88b-2e52596fb28a",
   "metadata": {},
   "outputs": [],
   "source": []
  },
  {
   "cell_type": "raw",
   "id": "5b781c1b-eb4e-44d7-8e58-c8f8a1fbd853",
   "metadata": {},
   "source": [
    "Basic Level:"
   ]
  },
  {
   "cell_type": "code",
   "execution_count": null,
   "id": "0321b1d8-6f06-4ccd-8233-a697debeb07c",
   "metadata": {},
   "outputs": [],
   "source": []
  },
  {
   "cell_type": "code",
   "execution_count": 1,
   "id": "3c70da83-edd6-449d-ba81-9b7bebf94b85",
   "metadata": {},
   "outputs": [
    {
     "name": "stdout",
     "output_type": "stream",
     "text": [
      "1\n",
      "2\n",
      "3\n",
      "4\n",
      "5\n",
      "6\n",
      "7\n",
      "8\n",
      "9\n",
      "10\n"
     ]
    }
   ],
   "source": [
    "#1. Write a Python program to print the numbers from 1 to 10 using a `for` loop.\n",
    "\n",
    "for x in range(1,11):\n",
    "    print(x)"
   ]
  },
  {
   "cell_type": "code",
   "execution_count": 3,
   "id": "203ffb88-2386-4f93-ba74-48456430c517",
   "metadata": {},
   "outputs": [
    {
     "name": "stdout",
     "output_type": "stream",
     "text": [
      "45\n"
     ]
    }
   ],
   "source": [
    "#2. Create a program that calculates the sum of all numbers in a list using a `for` loop.\n",
    "\n",
    "list_1 = [1,2,3,4,5,6,7,8,9]\n",
    "add = 0\n",
    "for x in list_1:\n",
    "    add = add + x\n",
    "print(add)"
   ]
  },
  {
   "cell_type": "code",
   "execution_count": 11,
   "id": "423ebbb5-6c94-4209-bd04-96bf6be34fdc",
   "metadata": {},
   "outputs": [
    {
     "name": "stdout",
     "output_type": "stream",
     "text": [
      "rishi\n",
      "am\n",
      "Hi\n"
     ]
    }
   ],
   "source": [
    "#3. Write a program to print the characters of a string in reverse order using a `for` loop.\n",
    "\n",
    "string_1 = \"Hi am rishi\"\n",
    "list_1 = string_1.split()[::-1]\n",
    "for x in list_1:\n",
    "    print(x)"
   ]
  },
  {
   "cell_type": "code",
   "execution_count": 19,
   "id": "398d59ae-1d36-4ecf-937a-638966b92dc4",
   "metadata": {},
   "outputs": [
    {
     "name": "stdin",
     "output_type": "stream",
     "text": [
      "Enter the number to calculate the factorial of : 4\n"
     ]
    },
    {
     "name": "stdout",
     "output_type": "stream",
     "text": [
      "24\n"
     ]
    }
   ],
   "source": [
    "#4. Develop a program that finds the factorial of a given number using a `for` loop.\n",
    "\n",
    "value = int(input('Enter the number to calculate the factorial of :'))\n",
    "counter = 1\n",
    "list_1 = []\n",
    "for x in range(1,value+1):\n",
    "    counter = counter * x\n",
    "print(counter)\n"
   ]
  },
  {
   "cell_type": "code",
   "execution_count": 22,
   "id": "d7dcf57e-5d8c-43b1-8aa3-49f3a2306fb7",
   "metadata": {},
   "outputs": [
    {
     "name": "stdin",
     "output_type": "stream",
     "text": [
      "Enter the number to calcualte the tabel for :  13\n"
     ]
    },
    {
     "name": "stdout",
     "output_type": "stream",
     "text": [
      "13*1=13\n",
      "13*2=26\n",
      "13*3=39\n",
      "13*4=52\n",
      "13*5=65\n",
      "13*6=78\n",
      "13*7=91\n",
      "13*8=104\n",
      "13*9=117\n",
      "13*10=130\n"
     ]
    }
   ],
   "source": [
    "#5. Create a program to print the multiplication table of a given number using a `for` loop.\n",
    "\n",
    "value  = int(input('Enter the number to calcualte the tabel for : '))\n",
    "for x in range(1,11):\n",
    "    print(str(value) + '*' + str(x) + '=' + str(value*x))"
   ]
  },
  {
   "cell_type": "code",
   "execution_count": 25,
   "id": "b5eac2cf-4984-4d7f-983a-7b03438f9f11",
   "metadata": {},
   "outputs": [
    {
     "name": "stdin",
     "output_type": "stream",
     "text": [
      "enter the number 1 2 3 4 5 6 7 8 9 0\n"
     ]
    },
    {
     "name": "stdout",
     "output_type": "stream",
     "text": [
      "Even Numbers in the list are :  ['2', '4', '6', '8', '0']\n",
      "Odd Numbers in the list are :  ['1', '3', '5', '7', '9']\n"
     ]
    }
   ],
   "source": [
    "#6. Write a program that counts the number of even and odd numbers in a list using a `for` loop.\n",
    "\n",
    "list_1 = (input('enter the numbers with space : ')).split()\n",
    "even_list = []\n",
    "odd_list = []\n",
    "for x in list_1:\n",
    "    if int(x)%2 == 0:\n",
    "        even_list.append(x)\n",
    "    else:\n",
    "        odd_list.append(x)\n",
    "print('Even Numbers in the list are : ',even_list)\n",
    "print('Odd Numbers in the list are : ',odd_list)\n",
    "        "
   ]
  },
  {
   "cell_type": "code",
   "execution_count": 26,
   "id": "d30825cc-3ae8-4138-a882-faad580b3beb",
   "metadata": {},
   "outputs": [
    {
     "name": "stdout",
     "output_type": "stream",
     "text": [
      "1\n",
      "4\n",
      "9\n",
      "16\n",
      "25\n"
     ]
    }
   ],
   "source": [
    "#7. Develop a program that prints the squares of numbers from 1 to 5 using a `for` loop.\n",
    "\n",
    "for x in range(1,6):\n",
    "    print(x**2)"
   ]
  },
  {
   "cell_type": "code",
   "execution_count": 30,
   "id": "c381b855-c897-4d69-b8e3-303c5785d2a3",
   "metadata": {},
   "outputs": [
    {
     "name": "stdin",
     "output_type": "stream",
     "text": [
      "Enter ANY string :  hi am rishi\n"
     ]
    },
    {
     "name": "stdout",
     "output_type": "stream",
     "text": [
      "Length of string :  11\n"
     ]
    }
   ],
   "source": [
    "#8. Create a program to find the length of a string without using the `len()` function.\n",
    "\n",
    "string_1 = str(input('Enter ANY string : '))\n",
    "counter = 0\n",
    "for x in string_1:\n",
    "    counter += 1\n",
    "    \n",
    "print('Length of string : ',counter)\n",
    "    "
   ]
  },
  {
   "cell_type": "code",
   "execution_count": 32,
   "id": "2a3179f5-0ed1-407a-8053-cd9b6746d5b5",
   "metadata": {},
   "outputs": [
    {
     "name": "stdin",
     "output_type": "stream",
     "text": [
      "enter the numbers with space :  1 2 3 4\n"
     ]
    },
    {
     "name": "stdout",
     "output_type": "stream",
     "text": [
      "Average =  2.5\n"
     ]
    }
   ],
   "source": [
    "#9. Write a program that calculates the average of a list of numbers using a `for` loop\n",
    "\n",
    "list_1 = (input('enter the numbers with space : ')).split()\n",
    "add = 0\n",
    "counter = 0\n",
    "for x in list_1:\n",
    "    add += int(x)\n",
    "    counter += 1\n",
    "    \n",
    "print('Average = ',add/counter)"
   ]
  },
  {
   "cell_type": "code",
   "execution_count": 34,
   "id": "31130d18-b1f6-40ef-93d6-b6c846054ca8",
   "metadata": {},
   "outputs": [
    {
     "name": "stdin",
     "output_type": "stream",
     "text": [
      "Enter the vlaue of n :  4\n"
     ]
    },
    {
     "name": "stdout",
     "output_type": "stream",
     "text": [
      "[0, 1, 1, 2]\n"
     ]
    }
   ],
   "source": [
    "#10. Develop a program that prints the first `n` Fibonacci numbers using a `for` loop.\n",
    "\n",
    "n = int(input('Enter the vlaue of n : '))\n",
    "list_1  = []\n",
    "for x in range(0,n):\n",
    "    if x <= 1 :\n",
    "        list_1.append(x)\n",
    "    else:\n",
    "        y  = (list_1[-1]) + (list_1[-2])\n",
    "        list_1.append(y)\n",
    "\n",
    "print(list_1)\n",
    "        "
   ]
  },
  {
   "cell_type": "code",
   "execution_count": null,
   "id": "755c58b2-5a1d-42d3-930f-093bb3d42167",
   "metadata": {},
   "outputs": [],
   "source": []
  },
  {
   "cell_type": "raw",
   "id": "2c4223fe-5387-453d-93f4-10b25db921ab",
   "metadata": {},
   "source": [
    "Intermediate Level:"
   ]
  },
  {
   "cell_type": "code",
   "execution_count": null,
   "id": "d9145679-8618-440e-9e5d-60c1ac863562",
   "metadata": {},
   "outputs": [],
   "source": []
  },
  {
   "cell_type": "code",
   "execution_count": 37,
   "id": "47876289-a35b-491d-bba9-87c2ad5be5ba",
   "metadata": {},
   "outputs": [
    {
     "name": "stdin",
     "output_type": "stream",
     "text": [
      "Enter the elements seperated by space :  1 2 3 4 1 2 \n"
     ]
    },
    {
     "name": "stdout",
     "output_type": "stream",
     "text": [
      "your liste is :  ['1', '2', '3', '4', '1', '2']\n",
      "yes, list contains duplicates\n"
     ]
    }
   ],
   "source": [
    "#11. Write a program to check if a given list contains any duplicates using a `for` loop.\n",
    "\n",
    "list_1 = input('Enter the elements seperated by space : ').split()\n",
    "print('your liste is : ', list_1)\n",
    "counter = 0\n",
    "for x in list_1:\n",
    "    if x in list_1[counter+1::]:\n",
    "        print('yes, list contains duplicates')\n",
    "        break\n",
    "    else:\n",
    "        counter += 1\n",
    "        \n",
    "if counter == len(list_1):\n",
    "    print('no, list dont contains any duplicates')\n",
    "    \n"
   ]
  },
  {
   "cell_type": "code",
   "execution_count": 38,
   "id": "aa18002b-f5c9-41d9-9bee-ddc81910589b",
   "metadata": {},
   "outputs": [
    {
     "data": {
      "text/plain": [
       "[2, 3, 5, 7, 11, 13, 17, 19, 23, 29, 31, 37, 41, 43, 47]"
      ]
     },
     "execution_count": 38,
     "metadata": {},
     "output_type": "execute_result"
    }
   ],
   "source": [
    "#12. Create a program that prints the prime numbers in a given range using a `for` loop.\n",
    "\n",
    "list_1= []\n",
    "\n",
    "for x in range(2,50):\n",
    "    for y in range(2,50):\n",
    "        if x % y == 0:\n",
    "            break\n",
    "    if x == y:\n",
    "        list_1.append(x)\n",
    "        \n",
    "list_1\n",
    "    "
   ]
  },
  {
   "cell_type": "code",
   "execution_count": 39,
   "id": "fbec67c9-59eb-45d9-aee1-5bf983bdabbd",
   "metadata": {},
   "outputs": [
    {
     "name": "stdin",
     "output_type": "stream",
     "text": [
      "Enter any word hi am rishi\n"
     ]
    },
    {
     "name": "stdout",
     "output_type": "stream",
     "text": [
      "you have 4 vovels in the entered word\n"
     ]
    }
   ],
   "source": [
    "#13. Develop a program that counts the number of vowels in a string using a `for` loop.\n",
    "\n",
    "\n",
    "e = input('Enter any word') # input\n",
    "f = ('a','e','i','o','u') # listed vovels\n",
    "count = 0  # temprory counter as 0\n",
    "for x in e:  # iterating the alphabests of word\n",
    "    if x in f : # checking if alphabet is among vovel stated\n",
    "        count = count + 1 # if matched increacing the counter\n",
    "    else :\n",
    "        pass   # if not found passing to next itteration\n",
    "    \n",
    "print('you have ' + str(count) +  ' vovels in the entered word')"
   ]
  },
  {
   "cell_type": "code",
   "execution_count": 49,
   "id": "fe6a3991-b640-424b-a6db-d5af26219f3c",
   "metadata": {},
   "outputs": [
    {
     "name": "stdout",
     "output_type": "stream",
     "text": [
      "110\n"
     ]
    }
   ],
   "source": [
    "#14. Write a program to find the maximum element in a 2D list using a nested `for` loop.\n",
    "\n",
    "list_1 = [[1,2,3,110,4],[5,6,7,8,9]]\n",
    "max_element  = 0\n",
    "for x in list_1:\n",
    "    for y in x:\n",
    "        if max_element < y:\n",
    "            max_element = y\n",
    "print(max_element)"
   ]
  },
  {
   "cell_type": "code",
   "execution_count": 51,
   "id": "f0e7ebf7-5f3a-41f7-9d91-c1af26de3af9",
   "metadata": {},
   "outputs": [
    {
     "name": "stdout",
     "output_type": "stream",
     "text": [
      "[1, 2, 3, 4, 5, 1, 1, 2, 5, 1, 1]\n"
     ]
    },
    {
     "name": "stdin",
     "output_type": "stream",
     "text": [
      "Enter the element you want to remove :  5\n"
     ]
    },
    {
     "name": "stdout",
     "output_type": "stream",
     "text": [
      "[1, 2, 3, 4, 1, 1, 2, 1, 1]\n"
     ]
    }
   ],
   "source": [
    "#15. Create a program that removes all occurrences of a specific element from a list using a `for` loop.\n",
    "\n",
    "list_1 = [1,2,3,4,5,1,1,2,5,1,1]\n",
    "list_2 = []\n",
    "print(list_1)\n",
    "value = int(input('Enter the element you want to remove : '))\n",
    "for x in list_1:\n",
    "    if x != value:\n",
    "        list_2.append(x)\n",
    "print(list_2)\n",
    "    "
   ]
  },
  {
   "cell_type": "code",
   "execution_count": 73,
   "id": "2914654c-813c-4079-8b5b-c27e8745774a",
   "metadata": {},
   "outputs": [
    {
     "name": "stdout",
     "output_type": "stream",
     "text": [
      "1 * 1 = 1\n",
      "1 * 2 = 2\n",
      "1 * 3 = 3\n",
      "1 * 4 = 4\n",
      "1 * 5 = 5\n",
      "1 * 6 = 6\n",
      "1 * 7 = 7\n",
      "1 * 8 = 8\n",
      "1 * 9 = 9\n",
      "1 * 10 = 10\n",
      "\n",
      "2 * 1 = 2\n",
      "2 * 2 = 4\n",
      "2 * 3 = 6\n",
      "2 * 4 = 8\n",
      "2 * 5 = 10\n",
      "2 * 6 = 12\n",
      "2 * 7 = 14\n",
      "2 * 8 = 16\n",
      "2 * 9 = 18\n",
      "2 * 10 = 20\n",
      "\n",
      "3 * 1 = 3\n",
      "3 * 2 = 6\n",
      "3 * 3 = 9\n",
      "3 * 4 = 12\n",
      "3 * 5 = 15\n",
      "3 * 6 = 18\n",
      "3 * 7 = 21\n",
      "3 * 8 = 24\n",
      "3 * 9 = 27\n",
      "3 * 10 = 30\n",
      "\n",
      "4 * 1 = 4\n",
      "4 * 2 = 8\n",
      "4 * 3 = 12\n",
      "4 * 4 = 16\n",
      "4 * 5 = 20\n",
      "4 * 6 = 24\n",
      "4 * 7 = 28\n",
      "4 * 8 = 32\n",
      "4 * 9 = 36\n",
      "4 * 10 = 40\n",
      "\n",
      "5 * 1 = 5\n",
      "5 * 2 = 10\n",
      "5 * 3 = 15\n",
      "5 * 4 = 20\n",
      "5 * 5 = 25\n",
      "5 * 6 = 30\n",
      "5 * 7 = 35\n",
      "5 * 8 = 40\n",
      "5 * 9 = 45\n",
      "5 * 10 = 50\n",
      "\n"
     ]
    }
   ],
   "source": [
    "#16. Develop a program that generates a multiplication table for numbers from 1 to 5 using a nested `for` loop.\n",
    "\n",
    "for x in range(1,6):\n",
    "    for y in range(1,11):\n",
    "        print(str(x)+' * '+str(y)+ ' = ' + str(x*y))\n",
    "    print(end = '\\n')"
   ]
  },
  {
   "cell_type": "code",
   "execution_count": 80,
   "id": "fad2bcba-83d9-4181-a051-9a93c99399f9",
   "metadata": {},
   "outputs": [
    {
     "name": "stdout",
     "output_type": "stream",
     "text": [
      "list in Celsius  [4.44, 10.0, 15.56, 21.11, 26.67]\n"
     ]
    }
   ],
   "source": [
    "#17. Write a program that converts a list of Fahrenheit temperatures to Celsius using a `for` loop.\n",
    "\n",
    "list_F = [40,50,60,70,80]\n",
    "list_C = []\n",
    "for x in list_F:\n",
    "    list_C.append(round(((x-32)*(5/9)),2))\n",
    "print('list in Celsius ',list_C)\n",
    "    \n",
    "    "
   ]
  },
  {
   "cell_type": "code",
   "execution_count": 81,
   "id": "98ff21d3-726f-464b-8a83-ca16ddbdf227",
   "metadata": {},
   "outputs": [
    {
     "name": "stdout",
     "output_type": "stream",
     "text": [
      "common elements from two lists :  [5, 6, 7]\n"
     ]
    }
   ],
   "source": [
    "#18. Create a program to print the common elements from two lists using a `for` loop.\n",
    "\n",
    "list_1 = [1,2,3,4,5,6,7]\n",
    "list_2 = [5,6,7,8,9,0]\n",
    "list_3 = []\n",
    "for x in list_1:\n",
    "    if x in list_2:\n",
    "        list_3.append(x)\n",
    "print('common elements from two lists : ',list_3)"
   ]
  },
  {
   "cell_type": "code",
   "execution_count": 83,
   "id": "a034f834-784a-47aa-a616-1372ad2f6103",
   "metadata": {},
   "outputs": [
    {
     "name": "stdout",
     "output_type": "stream",
     "text": [
      "*\n",
      "**\n",
      "***\n",
      "****\n"
     ]
    }
   ],
   "source": [
    "#19. Develop a program that prints the pattern of right-angled triangles using a `for` loop. Use ‘*’ to draw the pattern\n",
    "\n",
    "for x in range(1,5):\n",
    "    print('*' * x)"
   ]
  },
  {
   "cell_type": "code",
   "execution_count": 90,
   "id": "f7ab4080-bd13-45a0-b918-f512cef2172f",
   "metadata": {},
   "outputs": [
    {
     "name": "stdin",
     "output_type": "stream",
     "text": [
      "Enter the value of A :  10\n",
      "Enter the value of B :  20\n"
     ]
    },
    {
     "name": "stdout",
     "output_type": "stream",
     "text": [
      "gcd =  10\n"
     ]
    }
   ],
   "source": [
    "#20. Write a program to find the greatest common divisor (GCD) of two numbers using a `for` loop.\n",
    "\n",
    "a = int(input('Enter the value of A : '))\n",
    "b = int(input('Enter the value of B : '))\n",
    "\n",
    "if a > b:\n",
    "    temp = a\n",
    "else:\n",
    "    temp = b\n",
    "for i in range(1, temp + 1):  \n",
    "    if (( a % i == 0) and (b % i == 0 )):  \n",
    "        gcd = i  \n",
    "print('gcd = ',gcd)"
   ]
  },
  {
   "cell_type": "code",
   "execution_count": null,
   "id": "62c42d76-3a28-4b19-8d18-af2377448ba7",
   "metadata": {},
   "outputs": [],
   "source": []
  },
  {
   "cell_type": "raw",
   "id": "55478137-d7cf-4c29-bbc3-c5fbb76d88c3",
   "metadata": {},
   "source": [
    "Advanced Level:"
   ]
  },
  {
   "cell_type": "code",
   "execution_count": null,
   "id": "cfa4ac2b-3d7d-4ab2-94f0-e2abf3ada5e0",
   "metadata": {},
   "outputs": [],
   "source": []
  },
  {
   "cell_type": "code",
   "execution_count": 8,
   "id": "1eceabf6-cb1e-44ea-984e-e2589aad7b62",
   "metadata": {},
   "outputs": [
    {
     "name": "stdout",
     "output_type": "stream",
     "text": [
      "sum =  15\n"
     ]
    }
   ],
   "source": [
    "#21. Create a program that calculates the sum of the digits of numbers in a list using a list comprehension.\n",
    "\n",
    "list_1 = [1,2,3,4,5]\n",
    "print('sum = ', sum(x for x in list_1))"
   ]
  },
  {
   "cell_type": "code",
   "execution_count": 27,
   "id": "cb2988a9-1fdd-4d10-8a6c-ea87e91778b7",
   "metadata": {},
   "outputs": [
    {
     "name": "stdin",
     "output_type": "stream",
     "text": [
      "Enter the number :  12345\n"
     ]
    },
    {
     "name": "stdout",
     "output_type": "stream",
     "text": [
      "prime factors of a given number is  [3, 5, 823]\n"
     ]
    }
   ],
   "source": [
    "# 22. Write a program to find the prime factors of a given number using a `for` loop and list comprehension.\n",
    "\n",
    "value = int(input('Enter the number : '))\n",
    "\n",
    "\n",
    "list_1= []\n",
    "list_2 = []\n",
    "\n",
    "for x in range(2,value):\n",
    "    for y in range(2,value):\n",
    "        if x % y == 0:\n",
    "            break\n",
    "    if x == y:\n",
    "        list_1.append(x)\n",
    "for z in list_1:\n",
    "    if value%z==0:\n",
    "        list_2.append(z)\n",
    "    else:\n",
    "        pass\n",
    "print('prime factors of a given number is ',list_2)"
   ]
  },
  {
   "cell_type": "code",
   "execution_count": 12,
   "id": "b1e5bfb7-9419-4bc2-9b15-320a3c1cdc52",
   "metadata": {},
   "outputs": [
    {
     "name": "stdout",
     "output_type": "stream",
     "text": [
      "[11, 100, 91, 45]\n"
     ]
    }
   ],
   "source": [
    "#23. Develop a program that extracts unique elements from a list and stores them in a new list using a list comprehension.\n",
    "\n",
    "list_1 = [11,2,3,4,1,1,4,2,5,5,5,6,6,3,4,2,100,91,45]\n",
    "list_2 = [x for x in list_1 if list_1.count(x) == 1]\n",
    "print(list_2)\n"
   ]
  },
  {
   "cell_type": "code",
   "execution_count": 17,
   "id": "14cc06e6-d330-40e8-81a4-e96e44b7c589",
   "metadata": {},
   "outputs": [
    {
     "name": "stdin",
     "output_type": "stream",
     "text": [
      "Enter the end number :  100\n"
     ]
    },
    {
     "data": {
      "text/plain": [
       "[11, 22, 33, 44, 55, 66, 77, 88, 99]"
      ]
     },
     "execution_count": 17,
     "metadata": {},
     "output_type": "execute_result"
    }
   ],
   "source": [
    "#24. Create a program that generates a list of all palindromic numbers up to a specified limit using a list comprehension.\n",
    "\n",
    "end = int(input('Enter the end number : '))\n",
    "list_1= [ x for x in range(10,end) if str(x)[::1] == str(x)[::-1] ]\n",
    "list_1\n"
   ]
  },
  {
   "cell_type": "raw",
   "id": "21f3e667-1b26-4837-8b0b-8b0e1b021c60",
   "metadata": {},
   "source": [
    "Doubt in  below question --------Doubt------------"
   ]
  },
  {
   "cell_type": "code",
   "execution_count": 13,
   "id": "8c8dd54d-2809-4adb-b4a5-933e500e7aea",
   "metadata": {},
   "outputs": [
    {
     "data": {
      "text/plain": [
       "[1, 2, 3, 4, 5, 6, 7, 8, 9, 10]"
      ]
     },
     "execution_count": 13,
     "metadata": {},
     "output_type": "execute_result"
    }
   ],
   "source": [
    "#25. Write a program to flatten a nested list using list comprehension.\n",
    "\n",
    "list_1 = [1, 2, [3, 4, [5, 6] ], 7, 8, [9, [10] ] ]\n",
    "list_2 = [ ]\n",
    "\n",
    "def flatten_list(list_1):\n",
    "    for x in list_1:\n",
    "        if type(x) is list:\n",
    "            flatten_list(x)\n",
    "        else:\n",
    "            list_2.append(x)\n",
    "            \n",
    "flatten_list = flatten_list(list_1)\n",
    "list_2"
   ]
  },
  {
   "cell_type": "code",
   "execution_count": 34,
   "id": "43f0137c-3005-4e00-b326-2ad99c59be4f",
   "metadata": {},
   "outputs": [
    {
     "name": "stdout",
     "output_type": "stream",
     "text": [
      "sum_even = 20 sum_odd = 25\n"
     ]
    }
   ],
   "source": [
    "#26. Develop a program that computes the sum of even and odd numbers in a list separately using list comprehension\n",
    "\n",
    "list_1 = [1,2,3,4,5,6,7,8,9]\n",
    "sum_even = [(x) for x in list_1 if x %2  == 0]\n",
    "sum_odd = [(x) for x in list_1 if x %2  != 0]\n",
    "print('sum_even = '+str(sum(sum_even)) + ' sum_odd = '+str(sum(sum_odd)))"
   ]
  },
  {
   "cell_type": "code",
   "execution_count": 36,
   "id": "cb372dca-2bf7-4798-ac3f-aedcb1f444fd",
   "metadata": {},
   "outputs": [
    {
     "data": {
      "text/plain": [
       "[1, 9, 25, 49, 81]"
      ]
     },
     "execution_count": 36,
     "metadata": {},
     "output_type": "execute_result"
    }
   ],
   "source": [
    "#27. Create a program that generates a list of squares of odd numbers between 1 and 10 using list comprehension.\n",
    "\n",
    "list_square_odd = [x**2 for x in range(1,11) if x % 2 != 0]\n",
    "list_square_odd"
   ]
  },
  {
   "cell_type": "code",
   "execution_count": 82,
   "id": "384fb666-be8d-4a61-b466-85b8dddf91a4",
   "metadata": {},
   "outputs": [
    {
     "data": {
      "text/plain": [
       "{'a': 1, 'b': 2, 'c': 3}"
      ]
     },
     "execution_count": 82,
     "metadata": {},
     "output_type": "execute_result"
    }
   ],
   "source": [
    "#28. Write a program that combines two lists into a dictionary using list comprehension.\n",
    "keys = ['a','b','c']\n",
    "values = [1,2,3]\n",
    "dict_new = dict((keys[x],values[x]) for x in range(len(keys)))\n",
    "dict_new\n",
    "        "
   ]
  },
  {
   "cell_type": "code",
   "execution_count": 87,
   "id": "0fed6263-5260-4cdd-b206-278c2f431d30",
   "metadata": {},
   "outputs": [
    {
     "name": "stdin",
     "output_type": "stream",
     "text": [
      "Enter any string :  PWsills\n"
     ]
    },
    {
     "data": {
      "text/plain": [
       "['i']"
      ]
     },
     "execution_count": 87,
     "metadata": {},
     "output_type": "execute_result"
    }
   ],
   "source": [
    "#29. Develop a program that extracts the vowels from a string and stores them in a list using list comprehension.\n",
    "\n",
    "string_1 = input('Enter any string : ')\n",
    "list_1 = [x for x in string_1 if x.lower() in ['a','e','i','o','u']]\n",
    "list_1 "
   ]
  },
  {
   "cell_type": "code",
   "execution_count": 92,
   "id": "18829fba-98aa-4bd8-b65a-cba80009cd0a",
   "metadata": {},
   "outputs": [
    {
     "data": {
      "text/plain": [
       "['1', '2', '3', '4', '5', '6', '7', '8', '9']"
      ]
     },
     "execution_count": 92,
     "metadata": {},
     "output_type": "execute_result"
    }
   ],
   "source": [
    "#30. Create a program that removes all non-numeric characters from a list of strings using list comprehension.\n",
    "\n",
    "list_1 = ['123XYZ','456ABC','789fqz']\n",
    "list_2 = [y for x in list_1 for y in x if y.isnumeric()]\n",
    "list_2"
   ]
  },
  {
   "cell_type": "code",
   "execution_count": null,
   "id": "37714879-276f-4308-872d-9b1ff490ef96",
   "metadata": {},
   "outputs": [],
   "source": []
  },
  {
   "cell_type": "raw",
   "id": "e901881b-1bb7-4b89-85fd-9fd568b1d884",
   "metadata": {},
   "source": [
    "Challenge Level:"
   ]
  },
  {
   "cell_type": "code",
   "execution_count": null,
   "id": "cc2b550d-05cb-4c40-83b1-e06697214ad4",
   "metadata": {},
   "outputs": [],
   "source": []
  },
  {
   "cell_type": "code",
   "execution_count": 111,
   "id": "c9e47e90-d57a-4f83-be28-7dfcbf1823b9",
   "metadata": {},
   "outputs": [
    {
     "data": {
      "text/plain": [
       "[2, 3, 5, 7, 11, 13, 17, 19, 23, 29, 31, 37, 41, 43, 47]"
      ]
     },
     "execution_count": 111,
     "metadata": {},
     "output_type": "execute_result"
    }
   ],
   "source": [
    "#31. Write a program to generate a list of prime numbers using the Sieve of Eratosthenes algorithm and list comprehension.\n",
    "\n",
    "\n",
    "'''list_1= []\n",
    "\n",
    "for x in range(2,50):\n",
    "    for y in range(2,50):\n",
    "        if x % y == 0:\n",
    "            break\n",
    "    if x == y:\n",
    "        list_1.append(x)'''\n",
    "\n",
    "list_1 = [x for x in range(2, 50) if all(x % y != 0 for y in range(2, x))]\n",
    "\n",
    "        \n",
    "list_1"
   ]
  },
  {
   "cell_type": "code",
   "execution_count": 26,
   "id": "cf63abd8-2f1f-4803-8cc1-2e2f5efe906d",
   "metadata": {},
   "outputs": [
    {
     "data": {
      "text/plain": [
       "[[3, 4, 5], [6, 8, 10]]"
      ]
     },
     "execution_count": 26,
     "metadata": {},
     "output_type": "execute_result"
    }
   ],
   "source": [
    "#32. Create a program that generates a list of all Pythagorean triplets up to a specified limit using list comprehension.\n",
    "\n",
    "list_triplets  = [[x,y,int((x**2 + y **2) ** (0.5))] for x in range(1,11) for y in range (x,11) if ((x**2 + y**2)**0.5).is_integer() ]\n",
    "\n",
    "'''for x in range(1,11):\n",
    "    for y in range(x,11):\n",
    "        if (((x**2)+(y**2)) ** (0.5)).is_integer():\n",
    "            list_triplets.append([x,y,int((((x**2)+(y**2)) ** (0.5)))])'''\n",
    "        \n",
    "list_triplets"
   ]
  },
  {
   "cell_type": "code",
   "execution_count": 29,
   "id": "e86dbc5c-ba5e-4677-8852-e003cf578b44",
   "metadata": {},
   "outputs": [
    {
     "data": {
      "text/plain": [
       "[['a', 1],\n",
       " ['a', 2],\n",
       " ['a', 3],\n",
       " ['b', 1],\n",
       " ['b', 2],\n",
       " ['b', 3],\n",
       " ['c', 1],\n",
       " ['c', 2],\n",
       " ['c', 3]]"
      ]
     },
     "execution_count": 29,
     "metadata": {},
     "output_type": "execute_result"
    }
   ],
   "source": [
    "#33. Develop a program that generates a list of all possible combinations of two lists using list comprehension.\n",
    "\n",
    "list_1 = ['a','b','c']\n",
    "list_2 = [1,2,3]\n",
    "list_3 = [[x,y] for x in list_1 for y in list_2]\n",
    "'''for x in list_1:\n",
    "    for y in list_2:\n",
    "        list_3.append([x,y])'''\n",
    "list_3\n",
    "        "
   ]
  },
  {
   "cell_type": "code",
   "execution_count": 90,
   "id": "8544e325-d5d1-4331-98e7-990f5748a2de",
   "metadata": {},
   "outputs": [
    {
     "name": "stdout",
     "output_type": "stream",
     "text": [
      "mean =  3.9523809523809526\n",
      "median =  3\n",
      "Mode =  3\n"
     ]
    }
   ],
   "source": [
    "#34. Write a program that calculates the mean, median, and mode of a list of numbers using list comprehension.\n",
    "\n",
    "list_1 = [1,2,3,4,5,6,7,8,9,10,1,2,3,4,5,1,2,1,3,3,3]\n",
    "list_1.sort()\n",
    "x = len(list_1)\n",
    "\n",
    "#mean\n",
    "print('mean = ', (sum(list_1)/len(list_1)))\n",
    "\n",
    "#median \n",
    "\n",
    "print('median = ',(list_1[int(x/2)-1] + list_1[int(x/2)])/2 if x%2 == 0 else list_1[int((x+1)/2)-1] )\n",
    "    \n",
    "#Mode\n",
    "\n",
    "\n",
    "import statistics\n",
    "from statistics import mode\n",
    "print('Mode = ',mode(list_1))"
   ]
  },
  {
   "cell_type": "code",
   "execution_count": 10,
   "id": "81149228-5f87-4dc0-a011-85332488652a",
   "metadata": {},
   "outputs": [
    {
     "name": "stdin",
     "output_type": "stream",
     "text": [
      "Enter number of rows:  5\n"
     ]
    },
    {
     "name": "stdout",
     "output_type": "stream",
     "text": [
      "                     1 \n",
      "                  1      1 \n",
      "               1      2      1 \n",
      "            1      3      3      1 \n",
      "         1      4      6      4      1 \n"
     ]
    }
   ],
   "source": [
    "#35. Create a program that generates Pascal's triangle up to a specified number of rows using list comprehension.\n",
    "\n",
    "''' \n",
    "1 a\n",
    "11 a b\n",
    "121 a a+b b \n",
    "1331 a a+a+b a+b+b b\n",
    "14641\n",
    "'''\n",
    "\n",
    "n=int(input(\"Enter number of rows: \"))\n",
    "a=[]\n",
    "for i in range(n):\n",
    "    a.append([])\n",
    "    a[i].append(1)\n",
    "    for j in range(1,i):\n",
    "        a[i].append(a[i-1][j-1]+a[i-1][j])\n",
    "    if(n!=0):\n",
    "        a[i].append(1)\n",
    "for i in range(n):\n",
    "    print(\"   \"*(n-i),end=\" \",sep=\" \")\n",
    "    for j in range(0,i+1):\n",
    "        print('{0:6}'.format(a[i][j]),end=\" \",sep=\" \")\n",
    "    print()"
   ]
  },
  {
   "cell_type": "code",
   "execution_count": 108,
   "id": "10fac99c-d0e4-4c69-ae91-c1ec8d090e89",
   "metadata": {},
   "outputs": [
    {
     "name": "stdout",
     "output_type": "stream",
     "text": [
      "120\n"
     ]
    }
   ],
   "source": [
    "#36. Develop a program that calculates the sum of the digits of a factorial of numbers from 1 to 5 using list comprehension.\n",
    "\n",
    "list_1 = [x for x in range(1, 6)]\n",
    "counter = 1\n",
    "for x in list_1:\n",
    "    counter *= x\n",
    "print(counter)"
   ]
  },
  {
   "cell_type": "code",
   "execution_count": 165,
   "id": "a6f88049-0055-45b2-8f4e-b0953e04bb23",
   "metadata": {},
   "outputs": [
    {
     "name": "stdin",
     "output_type": "stream",
     "text": [
      "Enter any sentence :  hi am rishi\n"
     ]
    },
    {
     "name": "stdout",
     "output_type": "stream",
     "text": [
      "the longest word in a sentence is  rishi\n"
     ]
    }
   ],
   "source": [
    "#37. Write a program that finds the longest word in a sentence using list comprehension.\n",
    "\n",
    "string_1 = input('Enter any sentence : ')\n",
    "list_1 = [x for x in string_1.split()]\n",
    "counter = 0\n",
    "for x in list_1:\n",
    "    if len(x) > counter:\n",
    "        counter = len(x)\n",
    "        y = x\n",
    "    else:\n",
    "        pass\n",
    "\n",
    "print('the longest word in a sentence is ', y)"
   ]
  },
  {
   "cell_type": "code",
   "execution_count": 29,
   "id": "5ea31b06-aa87-4d0a-81b9-b4c659d62c84",
   "metadata": {},
   "outputs": [
    {
     "name": "stdin",
     "output_type": "stream",
     "text": [
      "Enter the string :  hi am rishikesh\n"
     ]
    },
    {
     "data": {
      "text/plain": [
       "['rishikesh']"
      ]
     },
     "execution_count": 29,
     "metadata": {},
     "output_type": "execute_result"
    }
   ],
   "source": [
    "#38. Create a program that filters a list of strings to include only those with more than three vowels using list comprehension.\n",
    "\n",
    "string_1 = input('Enter the string : ')\n",
    "list_1 = string_1.split()\n",
    "vovels = ['a','e','i','o','u']\n",
    "list_2 = [x for x in list_1 for y in x if y in vovels]\n",
    "list_3 = list(set([x for x in list_2 if list_2.count(x) >= 3]))\n",
    "list_3\n",
    "        "
   ]
  },
  {
   "cell_type": "code",
   "execution_count": 1,
   "id": "e6ef9170-2c5e-4def-88bf-8429a7ecc4e3",
   "metadata": {},
   "outputs": [
    {
     "data": {
      "text/plain": [
       "500500"
      ]
     },
     "execution_count": 1,
     "metadata": {},
     "output_type": "execute_result"
    }
   ],
   "source": [
    "#39. Develop a program that calculates the sum of the digits of numbers from 1 to 1000 using list comprehension.\n",
    "\n",
    "list_1 = sum([x for x in range(1,1001)])\n",
    "list_1"
   ]
  },
  {
   "cell_type": "code",
   "execution_count": 20,
   "id": "16b92dd6-8336-4d23-8642-fbe3b740e1c7",
   "metadata": {},
   "outputs": [
    {
     "name": "stdin",
     "output_type": "stream",
     "text": [
      "Enter the end number :  200\n"
     ]
    },
    {
     "data": {
      "text/plain": [
       "[11, 101, 111, 131, 141, 151, 161, 171, 181, 191]"
      ]
     },
     "execution_count": 20,
     "metadata": {},
     "output_type": "execute_result"
    }
   ],
   "source": [
    "#40. Write a program that generates a list of prime palindromic numbers using list comprehension.\n",
    "\n",
    "\n",
    "end = int(input('Enter the end number : '))\n",
    "list_1= [ x for x in range(10,end) if str(x)[::1] == str(x)[::-1] ]\n",
    "\n",
    "list_2 = []\n",
    "for x in list_1:\n",
    "    for y in list_1:\n",
    "        if x % y == 0:\n",
    "            break\n",
    "    if x == y:\n",
    "        list_2.append(x)\n",
    "list_2"
   ]
  },
  {
   "cell_type": "code",
   "execution_count": null,
   "id": "bc1c5d9d-d10a-423f-a85c-318c6e1e7849",
   "metadata": {},
   "outputs": [],
   "source": []
  }
 ],
 "metadata": {
  "kernelspec": {
   "display_name": "Python 3 (ipykernel)",
   "language": "python",
   "name": "python3"
  },
  "language_info": {
   "codemirror_mode": {
    "name": "ipython",
    "version": 3
   },
   "file_extension": ".py",
   "mimetype": "text/x-python",
   "name": "python",
   "nbconvert_exporter": "python",
   "pygments_lexer": "ipython3",
   "version": "3.10.8"
  }
 },
 "nbformat": 4,
 "nbformat_minor": 5
}
